{
 "cells": [
  {
   "cell_type": "code",
   "execution_count": 1,
   "id": "35f26d6c-d8da-4837-87e4-dc2ffa64a416",
   "metadata": {},
   "outputs": [
    {
     "data": {
      "text/plain": [
       "[1, 2, 3, 4]"
      ]
     },
     "execution_count": 1,
     "metadata": {},
     "output_type": "execute_result"
    }
   ],
   "source": [
    "arr=[1,2,3,4]\n",
    "arr"
   ]
  },
  {
   "cell_type": "code",
   "execution_count": 2,
   "id": "4ddc4921-02b9-4a6b-8c5c-013e19bdb9ed",
   "metadata": {},
   "outputs": [
    {
     "ename": "AttributeError",
     "evalue": "'list' object has no attribute 'dtype'",
     "output_type": "error",
     "traceback": [
      "\u001b[1;31m---------------------------------------------------------------------------\u001b[0m",
      "\u001b[1;31mAttributeError\u001b[0m                            Traceback (most recent call last)",
      "Cell \u001b[1;32mIn[2], line 1\u001b[0m\n\u001b[1;32m----> 1\u001b[0m \u001b[43marr\u001b[49m\u001b[38;5;241;43m.\u001b[39;49m\u001b[43mdtype\u001b[49m\n",
      "\u001b[1;31mAttributeError\u001b[0m: 'list' object has no attribute 'dtype'"
     ]
    }
   ],
   "source": [
    "arr.dtype"
   ]
  },
  {
   "cell_type": "code",
   "execution_count": 3,
   "id": "d454d8ac-544d-4f49-bdaf-b12027eafedc",
   "metadata": {},
   "outputs": [
    {
     "ename": "NameError",
     "evalue": "name 'np' is not defined",
     "output_type": "error",
     "traceback": [
      "\u001b[1;31m---------------------------------------------------------------------------\u001b[0m",
      "\u001b[1;31mNameError\u001b[0m                                 Traceback (most recent call last)",
      "Cell \u001b[1;32mIn[3], line 1\u001b[0m\n\u001b[1;32m----> 1\u001b[0m arrs\u001b[38;5;241m=\u001b[39m\u001b[43mnp\u001b[49m\u001b[38;5;241m.\u001b[39marray(arr)\n",
      "\u001b[1;31mNameError\u001b[0m: name 'np' is not defined"
     ]
    }
   ],
   "source": [
    "arrs=np.array(arr)"
   ]
  },
  {
   "cell_type": "code",
   "execution_count": 4,
   "id": "aa456f20-40c0-4be0-8786-52955f1ef870",
   "metadata": {},
   "outputs": [
    {
     "name": "stdout",
     "output_type": "stream",
     "text": [
      "Collecting numpy\n",
      "  Downloading numpy-1.26.3-cp310-cp310-win_amd64.whl.metadata (61 kB)\n",
      "     ---------------------------------------- 0.0/61.2 kB ? eta -:--:--\n",
      "     ------ --------------------------------- 10.2/61.2 kB ? eta -:--:--\n",
      "     ------ --------------------------------- 10.2/61.2 kB ? eta -:--:--\n",
      "     ------ --------------------------------- 10.2/61.2 kB ? eta -:--:--\n",
      "     ------------------------- ------------ 41.0/61.2 kB 178.6 kB/s eta 0:00:01\n",
      "     -------------------------------------- 61.2/61.2 kB 251.1 kB/s eta 0:00:00\n",
      "Downloading numpy-1.26.3-cp310-cp310-win_amd64.whl (15.8 MB)\n",
      "   ---------------------------------------- 0.0/15.8 MB ? eta -:--:--\n",
      "   ---------------------------------------- 0.1/15.8 MB 1.1 MB/s eta 0:00:15\n",
      "   ---------------------------------------- 0.1/15.8 MB 871.5 kB/s eta 0:00:19\n",
      "   ---------------------------------------- 0.2/15.8 MB 1.3 MB/s eta 0:00:12\n",
      "    --------------------------------------- 0.3/15.8 MB 1.4 MB/s eta 0:00:11\n",
      "    --------------------------------------- 0.3/15.8 MB 1.4 MB/s eta 0:00:12\n",
      "   - -------------------------------------- 0.4/15.8 MB 1.6 MB/s eta 0:00:10\n",
      "   - -------------------------------------- 0.5/15.8 MB 1.5 MB/s eta 0:00:11\n",
      "   - -------------------------------------- 0.5/15.8 MB 1.5 MB/s eta 0:00:11\n",
      "   - -------------------------------------- 0.5/15.8 MB 1.2 MB/s eta 0:00:14\n",
      "   - -------------------------------------- 0.5/15.8 MB 1.2 MB/s eta 0:00:14\n",
      "   - -------------------------------------- 0.6/15.8 MB 1.2 MB/s eta 0:00:13\n",
      "   - -------------------------------------- 0.7/15.8 MB 1.2 MB/s eta 0:00:13\n",
      "   -- ------------------------------------- 0.8/15.8 MB 1.3 MB/s eta 0:00:12\n",
      "   -- ------------------------------------- 0.9/15.8 MB 1.4 MB/s eta 0:00:11\n",
      "   -- ------------------------------------- 1.0/15.8 MB 1.4 MB/s eta 0:00:11\n",
      "   -- ------------------------------------- 1.1/15.8 MB 1.4 MB/s eta 0:00:11\n",
      "   --- ------------------------------------ 1.2/15.8 MB 1.5 MB/s eta 0:00:10\n",
      "   --- ------------------------------------ 1.3/15.8 MB 1.5 MB/s eta 0:00:10\n",
      "   --- ------------------------------------ 1.4/15.8 MB 1.6 MB/s eta 0:00:09\n",
      "   --- ------------------------------------ 1.6/15.8 MB 1.7 MB/s eta 0:00:09\n",
      "   ---- ----------------------------------- 1.7/15.8 MB 1.8 MB/s eta 0:00:08\n",
      "   ---- ----------------------------------- 1.9/15.8 MB 1.8 MB/s eta 0:00:08\n",
      "   ----- ---------------------------------- 2.0/15.8 MB 1.9 MB/s eta 0:00:08\n",
      "   ----- ---------------------------------- 2.0/15.8 MB 1.9 MB/s eta 0:00:08\n",
      "   ----- ---------------------------------- 2.2/15.8 MB 1.9 MB/s eta 0:00:08\n",
      "   ----- ---------------------------------- 2.2/15.8 MB 1.9 MB/s eta 0:00:08\n",
      "   ----- ---------------------------------- 2.2/15.8 MB 1.7 MB/s eta 0:00:08\n",
      "   ----- ---------------------------------- 2.3/15.8 MB 1.8 MB/s eta 0:00:08\n",
      "   ----- ---------------------------------- 2.3/15.8 MB 1.7 MB/s eta 0:00:08\n",
      "   ------ --------------------------------- 2.4/15.8 MB 1.8 MB/s eta 0:00:08\n",
      "   ------ --------------------------------- 2.6/15.8 MB 1.8 MB/s eta 0:00:08\n",
      "   ------ --------------------------------- 2.6/15.8 MB 1.8 MB/s eta 0:00:08\n",
      "   ------- -------------------------------- 2.9/15.8 MB 1.9 MB/s eta 0:00:07\n",
      "   ------- -------------------------------- 3.1/15.8 MB 1.9 MB/s eta 0:00:07\n",
      "   -------- ------------------------------- 3.2/15.8 MB 2.0 MB/s eta 0:00:07\n",
      "   -------- ------------------------------- 3.4/15.8 MB 2.0 MB/s eta 0:00:07\n",
      "   --------- ------------------------------ 3.6/15.8 MB 2.1 MB/s eta 0:00:06\n",
      "   --------- ------------------------------ 3.7/15.8 MB 2.1 MB/s eta 0:00:06\n",
      "   --------- ------------------------------ 3.9/15.8 MB 2.1 MB/s eta 0:00:06\n",
      "   ---------- ----------------------------- 4.0/15.8 MB 2.2 MB/s eta 0:00:06\n",
      "   ---------- ----------------------------- 4.2/15.8 MB 2.2 MB/s eta 0:00:06\n",
      "   ----------- ---------------------------- 4.4/15.8 MB 2.2 MB/s eta 0:00:06\n",
      "   ----------- ---------------------------- 4.5/15.8 MB 2.3 MB/s eta 0:00:05\n",
      "   ------------ --------------------------- 4.8/15.8 MB 2.4 MB/s eta 0:00:05\n",
      "   ------------ --------------------------- 5.0/15.8 MB 2.4 MB/s eta 0:00:05\n",
      "   ------------- -------------------------- 5.2/15.8 MB 2.4 MB/s eta 0:00:05\n",
      "   ------------- -------------------------- 5.4/15.8 MB 2.5 MB/s eta 0:00:05\n",
      "   -------------- ------------------------- 5.7/15.8 MB 2.5 MB/s eta 0:00:05\n",
      "   -------------- ------------------------- 5.9/15.8 MB 2.6 MB/s eta 0:00:04\n",
      "   --------------- ------------------------ 6.1/15.8 MB 2.6 MB/s eta 0:00:04\n",
      "   ---------------- ----------------------- 6.4/15.8 MB 2.7 MB/s eta 0:00:04\n",
      "   ----------------- ---------------------- 6.7/15.8 MB 2.8 MB/s eta 0:00:04\n",
      "   ----------------- ---------------------- 7.0/15.8 MB 2.8 MB/s eta 0:00:04\n",
      "   ------------------ --------------------- 7.2/15.8 MB 2.9 MB/s eta 0:00:03\n",
      "   ------------------ --------------------- 7.5/15.8 MB 3.0 MB/s eta 0:00:03\n",
      "   ------------------- -------------------- 7.8/15.8 MB 3.0 MB/s eta 0:00:03\n",
      "   -------------------- ------------------- 8.1/15.8 MB 3.1 MB/s eta 0:00:03\n",
      "   --------------------- ------------------ 8.4/15.8 MB 3.2 MB/s eta 0:00:03\n",
      "   ---------------------- ----------------- 8.8/15.8 MB 3.2 MB/s eta 0:00:03\n",
      "   ---------------------- ----------------- 9.0/15.8 MB 3.3 MB/s eta 0:00:03\n",
      "   ----------------------- ---------------- 9.3/15.8 MB 3.3 MB/s eta 0:00:02\n",
      "   ------------------------ --------------- 9.6/15.8 MB 3.4 MB/s eta 0:00:02\n",
      "   ------------------------- -------------- 9.9/15.8 MB 3.4 MB/s eta 0:00:02\n",
      "   ------------------------- -------------- 10.3/15.8 MB 3.5 MB/s eta 0:00:02\n",
      "   -------------------------- ------------- 10.6/15.8 MB 3.7 MB/s eta 0:00:02\n",
      "   --------------------------- ------------ 10.9/15.8 MB 4.0 MB/s eta 0:00:02\n",
      "   ---------------------------- ----------- 11.1/15.8 MB 4.2 MB/s eta 0:00:02\n",
      "   ---------------------------- ----------- 11.3/15.8 MB 4.3 MB/s eta 0:00:02\n",
      "   ----------------------------- ---------- 11.6/15.8 MB 4.4 MB/s eta 0:00:01\n",
      "   ------------------------------ --------- 11.9/15.8 MB 4.5 MB/s eta 0:00:01\n",
      "   ------------------------------ --------- 12.2/15.8 MB 4.5 MB/s eta 0:00:01\n",
      "   ------------------------------- -------- 12.4/15.8 MB 4.9 MB/s eta 0:00:01\n",
      "   ------------------------------- -------- 12.6/15.8 MB 5.1 MB/s eta 0:00:01\n",
      "   -------------------------------- ------- 13.0/15.8 MB 5.3 MB/s eta 0:00:01\n",
      "   --------------------------------- ------ 13.2/15.8 MB 5.4 MB/s eta 0:00:01\n",
      "   ---------------------------------- ----- 13.5/15.8 MB 5.5 MB/s eta 0:00:01\n",
      "   ---------------------------------- ----- 13.8/15.8 MB 5.6 MB/s eta 0:00:01\n",
      "   ----------------------------------- ---- 14.0/15.8 MB 5.6 MB/s eta 0:00:01\n",
      "   ------------------------------------ --- 14.3/15.8 MB 5.7 MB/s eta 0:00:01\n",
      "   ------------------------------------ --- 14.6/15.8 MB 5.8 MB/s eta 0:00:01\n",
      "   ------------------------------------- -- 14.9/15.8 MB 6.0 MB/s eta 0:00:01\n",
      "   -------------------------------------- - 15.2/15.8 MB 6.0 MB/s eta 0:00:01\n",
      "   ---------------------------------------  15.4/15.8 MB 6.1 MB/s eta 0:00:01\n",
      "   ---------------------------------------  15.6/15.8 MB 6.0 MB/s eta 0:00:01\n",
      "   ---------------------------------------  15.8/15.8 MB 6.0 MB/s eta 0:00:01\n",
      "   ---------------------------------------- 15.8/15.8 MB 5.8 MB/s eta 0:00:00\n",
      "Installing collected packages: numpy\n",
      "Note: you may need to restart the kernel to use updated packages.\n"
     ]
    },
    {
     "name": "stderr",
     "output_type": "stream",
     "text": [
      "  WARNING: Failed to write executable - trying to use .deleteme logic\n",
      "ERROR: Could not install packages due to an OSError: [WinError 2] The system cannot find the file specified: 'C:\\\\Python310\\\\Scripts\\\\f2py.exe' -> 'C:\\\\Python310\\\\Scripts\\\\f2py.exe.deleteme'\n",
      "\n"
     ]
    }
   ],
   "source": [
    "pip install numpy"
   ]
  },
  {
   "cell_type": "code",
   "execution_count": 5,
   "id": "3ea6bcd1-a206-426f-9af0-fe2970038aa0",
   "metadata": {},
   "outputs": [],
   "source": [
    "import numpy as np"
   ]
  },
  {
   "cell_type": "code",
   "execution_count": 6,
   "id": "975b7070-a274-440c-b1bc-665e23f34654",
   "metadata": {},
   "outputs": [],
   "source": [
    "arrs=np.array(arr)"
   ]
  },
  {
   "cell_type": "code",
   "execution_count": 7,
   "id": "d1b950a8-c538-4e00-aa84-ee8337708086",
   "metadata": {},
   "outputs": [
    {
     "data": {
      "text/plain": [
       "dtype('int32')"
      ]
     },
     "execution_count": 7,
     "metadata": {},
     "output_type": "execute_result"
    }
   ],
   "source": [
    "arrs.dtype"
   ]
  },
  {
   "cell_type": "code",
   "execution_count": 8,
   "id": "ca4a3e56-e12c-4782-8d46-b9080dd5827c",
   "metadata": {},
   "outputs": [],
   "source": [
    "random_int_array = np.random.randint(1, 50, size=3)"
   ]
  },
  {
   "cell_type": "code",
   "execution_count": 9,
   "id": "2568d07f-e6ef-4ac3-a5a8-92f4576c9e22",
   "metadata": {},
   "outputs": [
    {
     "data": {
      "text/plain": [
       "array([30, 29, 15])"
      ]
     },
     "execution_count": 9,
     "metadata": {},
     "output_type": "execute_result"
    }
   ],
   "source": [
    "random_int_array"
   ]
  },
  {
   "cell_type": "code",
   "execution_count": 10,
   "id": "f0274c76-6b5c-446f-bb7d-320af24f6512",
   "metadata": {},
   "outputs": [
    {
     "data": {
      "text/plain": [
       "array([49, 23, 29, 11, 13, 16, 44, 29,  5,  8])"
      ]
     },
     "execution_count": 10,
     "metadata": {},
     "output_type": "execute_result"
    }
   ],
   "source": [
    "random_int_array = np.random.randint(1, 50, size=10)\n",
    "random_int_array"
   ]
  },
  {
   "cell_type": "code",
   "execution_count": 11,
   "id": "de543027-5708-4367-952b-5a4c153abefa",
   "metadata": {},
   "outputs": [
    {
     "data": {
      "text/plain": [
       "10"
      ]
     },
     "execution_count": 11,
     "metadata": {},
     "output_type": "execute_result"
    }
   ],
   "source": [
    "random_int_array.size"
   ]
  },
  {
   "cell_type": "code",
   "execution_count": 12,
   "id": "1b4271eb-ffab-454d-a56f-4e60b7eb218f",
   "metadata": {},
   "outputs": [
    {
     "ename": "AttributeError",
     "evalue": "'numpy.ndarray' object has no attribute 'np'",
     "output_type": "error",
     "traceback": [
      "\u001b[1;31m---------------------------------------------------------------------------\u001b[0m",
      "\u001b[1;31mAttributeError\u001b[0m                            Traceback (most recent call last)",
      "Cell \u001b[1;32mIn[12], line 1\u001b[0m\n\u001b[1;32m----> 1\u001b[0m \u001b[43mrandom_int_array\u001b[49m\u001b[38;5;241;43m.\u001b[39;49m\u001b[43mnp\u001b[49m\u001b[38;5;241m.\u001b[39mndim\n",
      "\u001b[1;31mAttributeError\u001b[0m: 'numpy.ndarray' object has no attribute 'np'"
     ]
    }
   ],
   "source": [
    "random_int_array.np.ndim"
   ]
  },
  {
   "cell_type": "code",
   "execution_count": 13,
   "id": "8e592fec-1037-4294-b824-b440f6bb4693",
   "metadata": {},
   "outputs": [
    {
     "data": {
      "text/plain": [
       "1"
      ]
     },
     "execution_count": 13,
     "metadata": {},
     "output_type": "execute_result"
    }
   ],
   "source": [
    "np.ndim(random_int_array)"
   ]
  },
  {
   "cell_type": "code",
   "execution_count": 14,
   "id": "6ac3a624-2da3-42ab-94d0-6e7a1deb02da",
   "metadata": {},
   "outputs": [],
   "source": [
    "two_dim = np.array([[1, 2, 3], [4, 5, 6], [5, 6, 7]])"
   ]
  },
  {
   "cell_type": "code",
   "execution_count": 15,
   "id": "70f95126-181c-4721-94e0-41d29671f8e5",
   "metadata": {},
   "outputs": [
    {
     "ename": "NameError",
     "evalue": "name 'tow_dim' is not defined",
     "output_type": "error",
     "traceback": [
      "\u001b[1;31m---------------------------------------------------------------------------\u001b[0m",
      "\u001b[1;31mNameError\u001b[0m                                 Traceback (most recent call last)",
      "Cell \u001b[1;32mIn[15], line 1\u001b[0m\n\u001b[1;32m----> 1\u001b[0m \u001b[43mtow_dim\u001b[49m\n",
      "\u001b[1;31mNameError\u001b[0m: name 'tow_dim' is not defined"
     ]
    }
   ],
   "source": [
    "tow_dim"
   ]
  },
  {
   "cell_type": "code",
   "execution_count": 16,
   "id": "07a0fdb5-efb3-4710-8bda-c5d4deecb1b2",
   "metadata": {},
   "outputs": [
    {
     "data": {
      "text/plain": [
       "array([[1, 2, 3],\n",
       "       [4, 5, 6],\n",
       "       [5, 6, 7]])"
      ]
     },
     "execution_count": 16,
     "metadata": {},
     "output_type": "execute_result"
    }
   ],
   "source": [
    "two_dim"
   ]
  },
  {
   "cell_type": "code",
   "execution_count": null,
   "id": "dbbb0cf6-3af4-4a77-b9bf-a969b5981018",
   "metadata": {},
   "outputs": [],
   "source": []
  }
 ],
 "metadata": {
  "kernelspec": {
   "display_name": "Python 3 (ipykernel)",
   "language": "python",
   "name": "python3"
  },
  "language_info": {
   "codemirror_mode": {
    "name": "ipython",
    "version": 3
   },
   "file_extension": ".py",
   "mimetype": "text/x-python",
   "name": "python",
   "nbconvert_exporter": "python",
   "pygments_lexer": "ipython3",
   "version": "3.10.8"
  }
 },
 "nbformat": 4,
 "nbformat_minor": 5
}
